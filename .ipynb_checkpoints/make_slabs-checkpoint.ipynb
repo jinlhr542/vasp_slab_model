{
 "cells": [
  {
   "cell_type": "code",
   "execution_count": 288,
   "metadata": {},
   "outputs": [],
   "source": [
    "from pymatgen.core.surface import SlabGenerator"
   ]
  },
  {
   "cell_type": "code",
   "execution_count": 289,
   "metadata": {},
   "outputs": [],
   "source": [
    "from pymatgen.core.structure import Structure\n",
    "beta = Structure.from_file(\"cif files/beta.cif\")"
   ]
  },
  {
   "cell_type": "code",
   "execution_count": 290,
   "metadata": {},
   "outputs": [],
   "source": [
    "from numpy.linalg import norm"
   ]
  },
  {
   "cell_type": "code",
   "execution_count": 291,
   "metadata": {},
   "outputs": [],
   "source": [
    "import shutil"
   ]
  },
  {
   "cell_type": "code",
   "execution_count": 213,
   "metadata": {},
   "outputs": [],
   "source": [
    "from numpy import *\n",
    "import os"
   ]
  },
  {
   "cell_type": "markdown",
   "metadata": {},
   "source": [
    "# Searching for all the non-polar & symmetric slab models for desired surfaces by inputing miller indices & cif file"
   ]
  },
  {
   "cell_type": "code",
   "execution_count": 1,
   "metadata": {},
   "outputs": [],
   "source": [
    "def get_surf_poscar_hkl(hkls, cif_file, slab_size = 10, vac_size = 10, folder = ''):\n",
    "    pos_folder = os.path.join(folder,'POSCAR_files')\n",
    "    os.mkdir(pos_folder)\n",
    "    count = 1\n",
    "    structure = Structure.from_file(cif_file)\n",
    "    structure.add_oxidation_state_by_guess()\n",
    "    with open(os.path.join(folder, 'info.dat'), 'a') as f:\n",
    "        f.write('ID h k l Term\\n')\n",
    "    for hkl in hkls:\n",
    "        slabgen = SlabGenerator(structure,\n",
    "                            miller_index=hkl,\n",
    "                            min_slab_size=slab_size,\n",
    "                            min_vacuum_size=vac_size,\n",
    "                            center_slab=True)\n",
    "        slabs = slabgen.get_slabs()\n",
    "        in_count = 1\n",
    "        for n, slab in enumerate(slabs):\n",
    "            if (not slab.is_polar()) and slab.is_symmetric():\n",
    "                with open(os.path.join(folder, 'info.dat'), 'a') as f:\n",
    "                    f.write('{0} {1} {2} {3} {4}\\n'.format(count, hkl[0], hkl[1], hkl[2], in_count))\n",
    "                slab.get_sorted_structure().to(fmt = 'poscar',filename = os.path.join(pos_folder,'{}_POSCAR'.format(count)))\n",
    "                in_count += 1\n",
    "                count += 1"
   ]
  },
  {
   "cell_type": "code",
   "execution_count": 279,
   "metadata": {},
   "outputs": [],
   "source": [
    "hkls = [(1,0,0),(0,1,0),(0,0,1),\\\n",
    "        (1,1,0),(0,1,1),(1,0,1),\\\n",
    "        (-1,1,0),(-1,0,1),(0,-1,1),\\\n",
    "        (2,0,1),(1,0,2),(0,1,2),(0,2,1),(2,1,0),(1,2,0),\\\n",
    "        (-2,0,1),(1,0,-2),(0,1,-2),(0,-2,1),(-2,1,0),(1,-2,0)]"
   ]
  },
  {
   "cell_type": "code",
   "execution_count": 280,
   "metadata": {},
   "outputs": [
    {
     "ename": "FileExistsError",
     "evalue": "[Errno 17] File exists: 'beta_Ga2O3'",
     "output_type": "error",
     "traceback": [
      "\u001b[0;31m---------------------------------------------------------------------------\u001b[0m",
      "\u001b[0;31mFileExistsError\u001b[0m                           Traceback (most recent call last)",
      "\u001b[0;32m<ipython-input-280-81835a1abd5b>\u001b[0m in \u001b[0;36m<module>\u001b[0;34m\u001b[0m\n\u001b[0;32m----> 1\u001b[0;31m \u001b[0mos\u001b[0m\u001b[0;34m.\u001b[0m\u001b[0mmkdir\u001b[0m\u001b[0;34m(\u001b[0m\u001b[0;34m'beta_Ga2O3'\u001b[0m\u001b[0;34m)\u001b[0m\u001b[0;34m\u001b[0m\u001b[0;34m\u001b[0m\u001b[0m\n\u001b[0m",
      "\u001b[0;31mFileExistsError\u001b[0m: [Errno 17] File exists: 'beta_Ga2O3'"
     ]
    }
   ],
   "source": [
    "os.mkdir('beta_Ga2O3')"
   ]
  },
  {
   "cell_type": "code",
   "execution_count": null,
   "metadata": {},
   "outputs": [],
   "source": [
    "get_surf_poscar_hkl(hkls,\"cif files/beta.cif\",folder='beta_Ga2O3')"
   ]
  },
  {
   "cell_type": "markdown",
   "metadata": {},
   "source": [
    "# Generate VASP inputs\n",
    "Pls prepare your own INCAR and POTCAR files"
   ]
  },
  {
   "cell_type": "code",
   "execution_count": 282,
   "metadata": {},
   "outputs": [],
   "source": [
    "def write_Kpts(Ks, file):\n",
    "    with open(file, 'w') as f:\n",
    "        f.write('Surface_E_calculation\\n')\n",
    "        f.write('0\\n')\n",
    "        f.write('Gamma\\n')\n",
    "        f.write('{0} {1} {2}\\n'.format(Ks[0], Ks[1], Ks[2]))\n",
    "        f.write('0.0 0.0 0.0')"
   ]
  },
  {
   "cell_type": "code",
   "execution_count": 283,
   "metadata": {},
   "outputs": [],
   "source": [
    "def get_Kpts(poscar_file, K_ro):\n",
    "    mtx = Structure.from_file(poscar_file).lattice.matrix\n",
    "    lengths = norm(mtx, axis = 1)\n",
    "    Ks = array([0,0,0])\n",
    "    for i in range(3):\n",
    "        Ks[i] = int(ceil(K_ro/lengths[i]))\n",
    "    return Ks"
   ]
  },
  {
   "cell_type": "code",
   "execution_count": 284,
   "metadata": {},
   "outputs": [],
   "source": [
    "def build_job(job_folder, pos_folder, incar_file, potcar_file, K_ro = 24):\n",
    "    info = loadtxt(os.path.join(pos_folder,'info.dat'), skiprows=1)\n",
    "    num = len(info)\n",
    "    for i in range(1,num+1):\n",
    "        this_f = os.path.join(job_folder,str(i))\n",
    "        os.mkdir(this_f)\n",
    "        poscar_file = os.path.join(pos_folder,'POSCAR_files/{}_POSCAR'.format(i))\n",
    "        Ks = get_Kpts(poscar_file, K_ro)\n",
    "        write_Kpts(Ks, os.path.join(this_f,'KPOINTS'))\n",
    "        shutil.copy(incar_file, os.path.join(this_f,'INCAR'))\n",
    "        shutil.copy(potcar_file, os.path.join(this_f, 'POTCAR'))\n",
    "        shutil.copy(poscar_file, os.path.join(this_f,'POSCAR'))"
   ]
  },
  {
   "cell_type": "code",
   "execution_count": 285,
   "metadata": {},
   "outputs": [
    {
     "ename": "FileExistsError",
     "evalue": "[Errno 17] File exists: 'beta_jobs'",
     "output_type": "error",
     "traceback": [
      "\u001b[0;31m---------------------------------------------------------------------------\u001b[0m",
      "\u001b[0;31mFileExistsError\u001b[0m                           Traceback (most recent call last)",
      "\u001b[0;32m<ipython-input-285-6598f34c7c3e>\u001b[0m in \u001b[0;36m<module>\u001b[0;34m\u001b[0m\n\u001b[0;32m----> 1\u001b[0;31m \u001b[0mos\u001b[0m\u001b[0;34m.\u001b[0m\u001b[0mmkdir\u001b[0m\u001b[0;34m(\u001b[0m\u001b[0;34m'beta_jobs'\u001b[0m\u001b[0;34m)\u001b[0m\u001b[0;34m\u001b[0m\u001b[0;34m\u001b[0m\u001b[0m\n\u001b[0m",
      "\u001b[0;31mFileExistsError\u001b[0m: [Errno 17] File exists: 'beta_jobs'"
     ]
    }
   ],
   "source": [
    "os.mkdir('beta_jobs')"
   ]
  },
  {
   "cell_type": "code",
   "execution_count": 287,
   "metadata": {},
   "outputs": [],
   "source": [
    "build_job('beta_jobs','beta_Ga2O3','INCAR','POTCAR')"
   ]
  }
 ],
 "metadata": {
  "kernelspec": {
   "display_name": "Python 3",
   "language": "python",
   "name": "python3"
  },
  "language_info": {
   "codemirror_mode": {
    "name": "ipython",
    "version": 3
   },
   "file_extension": ".py",
   "mimetype": "text/x-python",
   "name": "python",
   "nbconvert_exporter": "python",
   "pygments_lexer": "ipython3",
   "version": "3.8.3"
  }
 },
 "nbformat": 4,
 "nbformat_minor": 4
}
